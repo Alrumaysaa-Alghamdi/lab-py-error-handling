{
 "cells": [
  {
   "cell_type": "markdown",
   "metadata": {},
   "source": [
    "# LAB | Error Handling in Python\n",
    "\n",
    "## Overview\n",
    "This exercise notebook will help you practice error handling in Python using exceptions. You will write programs that handle various types of exceptions to ensure your code runs smoothly and handles errors gracefully."
   ]
  },
  {
   "cell_type": "markdown",
   "metadata": {},
   "source": [
    "### Exercise 1: Handle ZeroDivisionError\n",
    "Write a Python program to handle a `ZeroDivisionError` exception when dividing a number by zero.\n"
   ]
  },
  {
   "cell_type": "code",
   "execution_count": 1,
   "metadata": {},
   "outputs": [],
   "source": [
    "# Your code here\n",
    "def safe_divide(a, b):\n",
    "    try:\n",
    "        result = a / b\n",
    "    except ZeroDivisionError:\n",
    "        print(\"Error: Division by zero is not allowed.\")\n",
    "        result = None\n",
    "    return result"
   ]
  },
  {
   "cell_type": "markdown",
   "metadata": {},
   "source": [
    "\n",
    "### Exercise 2: Raise ValueError for Invalid Input\n",
    "Write a Python program that prompts the user to input an integer and raises a `ValueError` exception if the input is not a valid integer.\n",
    "\n"
   ]
  },
  {
   "cell_type": "code",
   "execution_count": 2,
   "metadata": {},
   "outputs": [
    {
     "name": "stdout",
     "output_type": "stream",
     "text": [
      "You entered: 2\n"
     ]
    }
   ],
   "source": [
    "# Your code here\n",
    "user_input = input(\"Please enter an integer: \")\n",
    "try:\n",
    "        number = int(user_input)\n",
    "except ValueError:\n",
    "        raise ValueError(\"Invalid input. Please enter a valid integer.\")\n",
    "print(\"You entered:\", number)\n"
   ]
  },
  {
   "cell_type": "markdown",
   "metadata": {},
   "source": [
    "\n",
    "\n",
    "### Exercise 3: Handle FileNotFoundError\n",
    "Write a Python program that opens a file and handles a `FileNotFoundError` exception if the file does not exist.\n",
    "\n"
   ]
  },
  {
   "cell_type": "code",
   "execution_count": 3,
   "metadata": {},
   "outputs": [
    {
     "name": "stdout",
     "output_type": "stream",
     "text": [
      "Error: The file does not exist.\n"
     ]
    }
   ],
   "source": [
    "# Your code here\n",
    "try:\n",
    "    with open(\"file.txt\", 'r') as file:\n",
    "        content = file.read()\n",
    "except FileNotFoundError:\n",
    "    print(f\"Error: The file does not exist.\")"
   ]
  },
  {
   "cell_type": "markdown",
   "metadata": {},
   "source": [
    "\n",
    "\n",
    "### Exercise 4: Raise TypeError for Non-Numerical Input\n",
    "Write a Python program that prompts the user to input two numbers and raises a `TypeError` exception if the inputs are not numerical.\n",
    "\n"
   ]
  },
  {
   "cell_type": "code",
   "execution_count": 4,
   "metadata": {},
   "outputs": [],
   "source": [
    "# Your code here\n",
    "num1_str = input(\"Enter the first number: \")\n",
    "num2_str = input(\"Enter the second number: \")\n",
    "    \n",
    "try:\n",
    "    num1 = float(num1_str)\n",
    "    num2 = float(num2_str)\n",
    "except ValueError:\n",
    "    raise TypeError(\"Both inputs must be numerical.\")"
   ]
  },
  {
   "cell_type": "markdown",
   "metadata": {},
   "source": [
    "\n",
    "\n",
    "### Exercise 5: Handle PermissionError\n",
    "Write a Python program that opens a file and handles a `PermissionError` exception if there is a permission issue.\n",
    "\n",
    "\n"
   ]
  },
  {
   "cell_type": "code",
   "execution_count": 5,
   "metadata": {},
   "outputs": [],
   "source": [
    "# Your code here\n",
    "def open_file(filename):\n",
    "    try:\n",
    "        with open(filename, 'r') as file:\n",
    "            content = file.read()\n",
    "            print(\"File content:\")\n",
    "            print(content)\n",
    "    except PermissionError:\n",
    "        print(f\"Error: You do not have permission to open '{filename}'.\")\n"
   ]
  },
  {
   "cell_type": "markdown",
   "metadata": {},
   "source": [
    "\n",
    "\n",
    "### Exercise 6: Handle IndexError in List Operations\n",
    "Write a Python program that executes an operation on a list and handles an `IndexError` exception if the index is out of range.\n",
    "\n",
    "\n"
   ]
  },
  {
   "cell_type": "code",
   "execution_count": 6,
   "metadata": {},
   "outputs": [
    {
     "name": "stdout",
     "output_type": "stream",
     "text": [
      "The product of lst[1] and lst[3] is 32.\n",
      "IndexError: list index out of range - One or both indices are out of range.\n"
     ]
    }
   ],
   "source": [
    "# Your code here\n",
    "def multiply_elements(lst, index1, index2):\n",
    "    try:\n",
    "        product = lst[index1] * lst[index2]\n",
    "        print(f\"The product of lst[{index1}] and lst[{index2}] is {product}.\")\n",
    "        return product\n",
    "    except IndexError as e:\n",
    "        print(f\"IndexError: {e} - One or both indices are out of range.\")\n",
    "        return None\n",
    "\n",
    "#list of int \n",
    "numbers = [2, 4, 6, 8, 10]\n",
    "\n",
    "# Example 1: Using valid indices\n",
    "multiply_elements(numbers, 1, 3)  # Expected output: 4 * 8 = 32\n",
    "\n",
    "# Example 2: Using an invalid index (10 does not exist in the list)\n",
    "multiply_elements(numbers, 1, 10)"
   ]
  },
  {
   "cell_type": "markdown",
   "metadata": {},
   "source": [
    "\n",
    "\n",
    "### Exercise 7: Handle KeyboardInterrupt Exception\n",
    "Write a Python program that prompts the user to input a number and handles a `KeyboardInterrupt` exception if the user cancels the input.\n",
    "\n"
   ]
  },
  {
   "cell_type": "code",
   "execution_count": 7,
   "metadata": {},
   "outputs": [
    {
     "name": "stdout",
     "output_type": "stream",
     "text": [
      "You entered: 3.0\n"
     ]
    }
   ],
   "source": [
    "# Your code here\n",
    "try:\n",
    "    user_input = input(\"Please enter a number: \")\n",
    "    number = float(user_input)  # Convert to float for generality.\n",
    "    print(\"You entered:\", number)\n",
    "except KeyboardInterrupt:\n",
    "    print(\"\\nInput cancelled by the user.\")\n",
    "except ValueError:\n",
    "    print(\"That's not a valid number.\")\n"
   ]
  },
  {
   "cell_type": "markdown",
   "metadata": {},
   "source": [
    "\n",
    "\n",
    "### Exercise 8: Handle ArithmeticError\n",
    "Write a Python program that executes division and handles an `ArithmeticError` exception if there is an arithmetic error.\n",
    "\n"
   ]
  },
  {
   "cell_type": "code",
   "execution_count": 8,
   "metadata": {},
   "outputs": [
    {
     "name": "stdout",
     "output_type": "stream",
     "text": [
      "The result of division is: 0.75\n"
     ]
    }
   ],
   "source": [
    "# Your code here\n",
    "try:\n",
    "    a = float(input(\"Enter the dividend: \"))\n",
    "    b = float(input(\"Enter the divisor: \"))\n",
    "    result = a / b\n",
    "except ArithmeticError as e:\n",
    "    print(\"Arithmetic error occurred:\", e)\n",
    "else:\n",
    "    print(\"The result of division is:\", result)"
   ]
  },
  {
   "cell_type": "markdown",
   "metadata": {},
   "source": [
    "\n",
    "\n",
    "### Exercise 9: Handle UnicodeDecodeError\n",
    "Write a Python program that opens a file and handles a `UnicodeDecodeError` exception if there is an encoding issue.\n",
    "\n"
   ]
  },
  {
   "cell_type": "code",
   "execution_count": 9,
   "metadata": {},
   "outputs": [],
   "source": [
    "# Your code here\n",
    "def open_file(filename):\n",
    "    try:\n",
    "        with open(filename, 'r') as file:\n",
    "            content = file.read()\n",
    "            print(\"File content:\")\n",
    "            print(content)\n",
    "    except UnicodeDecodeError as e:\n",
    "        print(f\"UnicodeDecodeError: {e}\")\n",
    "        print(f\"Error: The file '{filename}' could not be decoded due to an encoding issue.\")\n"
   ]
  },
  {
   "cell_type": "markdown",
   "metadata": {},
   "source": [
    "\n",
    "\n",
    "### Exercise 10: Handle AttributeError\n",
    "Write a Python program that executes an operation on an object and handles an `AttributeError` exception if the attribute does not exist.\n",
    "\n"
   ]
  },
  {
   "cell_type": "code",
   "execution_count": 10,
   "metadata": {},
   "outputs": [
    {
     "name": "stdout",
     "output_type": "stream",
     "text": [
      "Caught an AttributeError: 'MyObject' object has no attribute 'nonexistent_method'\n"
     ]
    }
   ],
   "source": [
    "# Your code here\n",
    "class MyObject:\n",
    "    def __init__(self, value):\n",
    "        self.value = value\n",
    "\n",
    "def main():\n",
    "    obj = MyObject(42)\n",
    "    try:\n",
    "        # Attempt to call a non-existent method\n",
    "        result = obj.nonexistent_method()\n",
    "        print(\"Result:\", result)\n",
    "    except AttributeError as error:\n",
    "        print(\"Caught an AttributeError:\", error)\n",
    "\n",
    "if __name__ == '__main__':\n",
    "    main()"
   ]
  },
  {
   "cell_type": "markdown",
   "metadata": {},
   "source": [
    "\n",
    "\n",
    "## Bonus Exercises\n",
    "\n",
    "### Bonus Exercise 1: Handle Multiple Exceptions\n",
    "Write a Python program that demonstrates handling multiple exceptions in one block.\n",
    "\n",
    "\n"
   ]
  },
  {
   "cell_type": "code",
   "execution_count": 11,
   "metadata": {},
   "outputs": [
    {
     "name": "stdout",
     "output_type": "stream",
     "text": [
      "Result of division is: 3.3333333333333335\n"
     ]
    }
   ],
   "source": [
    "# Your code here\n",
    "def handle_multiple_exceptions():\n",
    "    try:\n",
    "        # Prompt user for a number and perform a division\n",
    "        x = int(input(\"Enter an integer: \"))\n",
    "        result = 10 / x\n",
    "        print(\"Result of division is:\", result)\n",
    "    except (ValueError, ZeroDivisionError) as e:\n",
    "        print(\"An error occurred:\", e)\n",
    "\n",
    "if __name__ == \"__main__\":\n",
    "    handle_multiple_exceptions()\n"
   ]
  },
  {
   "cell_type": "markdown",
   "metadata": {},
   "source": [
    "\n",
    "\n",
    "### Bonus Exercise 2: Create Custom Exception\n",
    "Create a custom exception class and raise it in your code when certain conditions are met.\n",
    "\n",
    "\n"
   ]
  },
  {
   "cell_type": "code",
   "execution_count": 12,
   "metadata": {},
   "outputs": [
    {
     "name": "stdout",
     "output_type": "stream",
     "text": [
      "Caught custom exception: Negative value provided: value must be non-negative!\n"
     ]
    }
   ],
   "source": [
    "# Your code here\n",
    "class NegativeValueError(Exception):\n",
    "    \"\"\"Custom exception raised when a negative value is encountered.\"\"\"\n",
    "    pass\n",
    "\n",
    "def check_positive(value):\n",
    "    if value < 0:\n",
    "        raise NegativeValueError(\"Negative value provided: value must be non-negative!\")\n",
    "    else:\n",
    "        print(\"Value is positive:\", value)\n",
    "\n",
    "if __name__ == \"__main__\":\n",
    "    try:\n",
    "        num = float(input(\"Enter a non-negative number: \"))\n",
    "        check_positive(num)\n",
    "    except NegativeValueError as e:\n",
    "        print(\"Caught custom exception:\", e)\n"
   ]
  },
  {
   "cell_type": "markdown",
   "metadata": {},
   "source": [
    "\n",
    "\n",
    "### Bonus Exercise 3: Validate User Input with Exception Handling\n",
    "Write a program that repeatedly prompts the user for valid input until they provide it, using exception handling to manage invalid inputs.\n",
    "\n"
   ]
  },
  {
   "cell_type": "code",
   "execution_count": 13,
   "metadata": {},
   "outputs": [
    {
     "name": "stdout",
     "output_type": "stream",
     "text": [
      "You entered: 2\n"
     ]
    }
   ],
   "source": [
    "# Your code here\n",
    "def get_valid_integer():\n",
    "    while True:\n",
    "        try:\n",
    "            num = int(input(\"Please enter a valid integer: \"))\n",
    "            return num\n",
    "        except ValueError:\n",
    "            print(\"Invalid input. That's not an integer. Try again.\")\n",
    "\n",
    "if __name__ == \"__main__\":\n",
    "    valid_number = get_valid_integer()\n",
    "    print(\"You entered:\", valid_number)\n"
   ]
  },
  {
   "cell_type": "markdown",
   "metadata": {},
   "source": [
    "\n",
    "\n",
    "### Bonus Exercise 4: Log Errors to File\n",
    "Modify your error handling to log errors to a text file instead of printing them to the console.\n",
    "\n"
   ]
  },
  {
   "cell_type": "code",
   "execution_count": 14,
   "metadata": {},
   "outputs": [
    {
     "name": "stdout",
     "output_type": "stream",
     "text": [
      "Result of division is: 1.5\n"
     ]
    }
   ],
   "source": [
    "# Your code here\n",
    "def log_error(message):\n",
    "    with open(\"error_log.txt\", \"a\") as f:\n",
    "        f.write(message + \"\\n\")\n",
    "\n",
    "def division_with_logging():\n",
    "    try:\n",
    "        a = float(input(\"Enter the dividend: \"))\n",
    "        b = float(input(\"Enter the divisor: \"))\n",
    "        result = a / b\n",
    "        print(\"Result of division is:\", result)\n",
    "    except Exception as e:\n",
    "        log_error(str(e))\n",
    "        print(\"An error occurred. Please check 'error_log.txt' for details.\")\n",
    "\n",
    "if __name__ == \"__main__\":\n",
    "    division_with_logging()\n"
   ]
  },
  {
   "cell_type": "markdown",
   "metadata": {},
   "source": [
    "\n",
    "\n",
    "### Bonus Exercise 5: Retry Logic on Exception\n",
    "Implement retry logic for operations that could fail, allowing users to try again after encountering an error.\n",
    "\n"
   ]
  },
  {
   "cell_type": "code",
   "execution_count": 15,
   "metadata": {},
   "outputs": [
    {
     "name": "stdout",
     "output_type": "stream",
     "text": [
      "Result: 1.5\n"
     ]
    }
   ],
   "source": [
    "# Your code here\n",
    "def retry_division():\n",
    "    max_retries = 3\n",
    "    attempts = 0\n",
    "    while attempts < max_retries:\n",
    "        try:\n",
    "            a = float(input(\"Enter the dividend: \"))\n",
    "            b = float(input(\"Enter the divisor: \"))\n",
    "            result = a / b\n",
    "            print(\"Result:\", result)\n",
    "            return\n",
    "        except Exception as e:\n",
    "            attempts += 1\n",
    "            print(f\"Error: {e}. Attempt {attempts} of {max_retries}.\")\n",
    "    print(\"All attempts failed.\")\n",
    "\n",
    "if __name__ == \"__main__\":\n",
    "    retry_division()\n"
   ]
  }
 ],
 "metadata": {
  "kernelspec": {
   "display_name": "Python 3",
   "language": "python",
   "name": "python3"
  },
  "language_info": {
   "codemirror_mode": {
    "name": "ipython",
    "version": 3
   },
   "file_extension": ".py",
   "mimetype": "text/x-python",
   "name": "python",
   "nbconvert_exporter": "python",
   "pygments_lexer": "ipython3",
   "version": "3.12.0"
  }
 },
 "nbformat": 4,
 "nbformat_minor": 2
}
